{
 "cells": [
  {
   "cell_type": "markdown",
   "metadata": {
    "id": "IRKthvvvG8fp"
   },
   "source": [
    "# Loading Test Data"
   ]
  },
  {
   "cell_type": "code",
   "execution_count": 1,
   "metadata": {
    "executionInfo": {
     "elapsed": 739,
     "status": "ok",
     "timestamp": 1630584761559,
     "user": {
      "displayName": "Santanu Sikder",
      "photoUrl": "https://lh3.googleusercontent.com/a-/AOh14GjG5OU4_v-U3ZUB0wrCl0AVGOuYys3E-pTIANQ47g=s64",
      "userId": "14139649071342923887"
     },
     "user_tz": -330
    },
    "id": "Z9AnMps8EgGN"
   },
   "outputs": [],
   "source": [
    "import pandas as pd\n",
    "import matplotlib.pyplot as plt\n",
    "import numpy as np"
   ]
  },
  {
   "cell_type": "code",
   "execution_count": 2,
   "metadata": {
    "executionInfo": {
     "elapsed": 4,
     "status": "ok",
     "timestamp": 1630584762277,
     "user": {
      "displayName": "Santanu Sikder",
      "photoUrl": "https://lh3.googleusercontent.com/a-/AOh14GjG5OU4_v-U3ZUB0wrCl0AVGOuYys3E-pTIANQ47g=s64",
      "userId": "14139649071342923887"
     },
     "user_tz": -330
    },
    "id": "FY1-j5dxDgkk"
   },
   "outputs": [],
   "source": [
    "# My Google Drive was mounted for this notebook; therefore these links are relative to my drive only\n",
    "MASTER_PATH = \"/content/drive/MyDrive/Public Datasets/VIDEO DATA - ACTIVITY WISE/\""
   ]
  },
  {
   "cell_type": "code",
   "execution_count": 3,
   "metadata": {
    "executionInfo": {
     "elapsed": 4,
     "status": "ok",
     "timestamp": 1630584762278,
     "user": {
      "displayName": "Santanu Sikder",
      "photoUrl": "https://lh3.googleusercontent.com/a-/AOh14GjG5OU4_v-U3ZUB0wrCl0AVGOuYys3E-pTIANQ47g=s64",
      "userId": "14139649071342923887"
     },
     "user_tz": -330
    },
    "id": "WgGzO_cKEey0"
   },
   "outputs": [],
   "source": [
    "# Frequency of recording the data\n",
    "FREQ = 50  # No. of frames per second"
   ]
  },
  {
   "cell_type": "code",
   "execution_count": 4,
   "metadata": {
    "colab": {
     "base_uri": "https://localhost:8080/"
    },
    "executionInfo": {
     "elapsed": 14126,
     "status": "ok",
     "timestamp": 1630584776400,
     "user": {
      "displayName": "Santanu Sikder",
      "photoUrl": "https://lh3.googleusercontent.com/a-/AOh14GjG5OU4_v-U3ZUB0wrCl0AVGOuYys3E-pTIANQ47g=s64",
      "userId": "14139649071342923887"
     },
     "user_tz": -330
    },
    "id": "slJUyFqmEmEp",
    "outputId": "fe77e5bd-0660-4c17-a1be-6a475364eebc"
   },
   "outputs": [
    {
     "name": "stdout",
     "output_type": "stream",
     "text": [
      "<class 'pandas.core.frame.DataFrame'>\n",
      "RangeIndex: 4978321 entries, 0 to 4978320\n",
      "Data columns (total 11 columns):\n",
      " #   Column  Dtype  \n",
      "---  ------  -----  \n",
      " 0   time    int64  \n",
      " 1   acc_x   float64\n",
      " 2   acc_y   float64\n",
      " 3   acc_z   float64\n",
      " 4   gyr_x   float64\n",
      " 5   gyr_y   float64\n",
      " 6   gyr_z   float64\n",
      " 7   mag_x   float64\n",
      " 8   mag_y   float64\n",
      " 9   mag_z   float64\n",
      " 10  label   int64  \n",
      "dtypes: float64(9), int64(2)\n",
      "memory usage: 417.8 MB\n"
     ]
    }
   ],
   "source": [
    "# Read the CSV file corresponding to each label into a dataframe and then obtain the final dataframe (df) by concatenating them\n",
    "\n",
    "# List of the labels as in the names of the files\n",
    "lnames = [\"E\", \"D\", \"W\", \"S\", \"L\", \"RS\", \"RL\", \"G\", \"I\"]\n",
    "# Initialize as an empty dataframe\n",
    "df = pd.DataFrame()\n",
    "# Concatenate to collect all the data into the single dataframe\n",
    "for i in range(1, 10):\n",
    "    # CSV file's location\n",
    "    url = MASTER_PATH + str(i) + lnames[i - 1] + \"_label.csv\"\n",
    "    tempdf = pd.read_csv(url)\n",
    "    # Concatenate into the existing dataframe\n",
    "    df = pd.concat([df, tempdf], ignore_index = True)\n",
    "\n",
    "# Review the obtained dataset\n",
    "df.info()"
   ]
  },
  {
   "cell_type": "markdown",
   "metadata": {
    "id": "inE5rCseDxOv"
   },
   "source": [
    "# Preprocessing Data for Testing"
   ]
  },
  {
   "cell_type": "code",
   "execution_count": 5,
   "metadata": {
    "executionInfo": {
     "elapsed": 6,
     "status": "ok",
     "timestamp": 1630584776401,
     "user": {
      "displayName": "Santanu Sikder",
      "photoUrl": "https://lh3.googleusercontent.com/a-/AOh14GjG5OU4_v-U3ZUB0wrCl0AVGOuYys3E-pTIANQ47g=s64",
      "userId": "14139649071342923887"
     },
     "user_tz": -330
    },
    "id": "SgkVXtZ9Hjb0"
   },
   "outputs": [],
   "source": [
    "from sklearn.preprocessing import StandardScaler\n",
    "from scipy.stats import mode"
   ]
  },
  {
   "cell_type": "code",
   "execution_count": 6,
   "metadata": {
    "executionInfo": {
     "elapsed": 4,
     "status": "ok",
     "timestamp": 1630584776401,
     "user": {
      "displayName": "Santanu Sikder",
      "photoUrl": "https://lh3.googleusercontent.com/a-/AOh14GjG5OU4_v-U3ZUB0wrCl0AVGOuYys3E-pTIANQ47g=s64",
      "userId": "14139649071342923887"
     },
     "user_tz": -330
    },
    "id": "DEOOZ3oVHELv"
   },
   "outputs": [],
   "source": [
    "# The function which returns the processed form of the data\n",
    "def process(data):\n",
    "    # Names of the necessary columns\n",
    "    columns = data.columns[1 : -1]\n",
    "    # Standardize the independent variables' data\n",
    "    scaler = StandardScaler()\n",
    "    tempx = data[columns].copy().values\n",
    "    processeddf = pd.DataFrame(scaler.fit_transform(tempx), columns = columns)\n",
    "    # Subtract one from the labels for matching with the trained model\n",
    "    tempy = data[\"label\"].copy().values - 1\n",
    "    processeddf[\"label\"] = tempy\n",
    "\n",
    "    # Return the processed data\n",
    "    return processeddf"
   ]
  },
  {
   "cell_type": "code",
   "execution_count": 7,
   "metadata": {
    "colab": {
     "base_uri": "https://localhost:8080/",
     "height": 203
    },
    "executionInfo": {
     "elapsed": 1958,
     "status": "ok",
     "timestamp": 1630584778355,
     "user": {
      "displayName": "Santanu Sikder",
      "photoUrl": "https://lh3.googleusercontent.com/a-/AOh14GjG5OU4_v-U3ZUB0wrCl0AVGOuYys3E-pTIANQ47g=s64",
      "userId": "14139649071342923887"
     },
     "user_tz": -330
    },
    "id": "nu8TWCAINfop",
    "outputId": "a8abfe71-46e3-421b-a93c-3c73650da132"
   },
   "outputs": [
    {
     "data": {
      "text/html": [
       "<div>\n",
       "<style scoped>\n",
       "    .dataframe tbody tr th:only-of-type {\n",
       "        vertical-align: middle;\n",
       "    }\n",
       "\n",
       "    .dataframe tbody tr th {\n",
       "        vertical-align: top;\n",
       "    }\n",
       "\n",
       "    .dataframe thead th {\n",
       "        text-align: right;\n",
       "    }\n",
       "</style>\n",
       "<table border=\"1\" class=\"dataframe\">\n",
       "  <thead>\n",
       "    <tr style=\"text-align: right;\">\n",
       "      <th></th>\n",
       "      <th>acc_x</th>\n",
       "      <th>acc_y</th>\n",
       "      <th>acc_z</th>\n",
       "      <th>gyr_x</th>\n",
       "      <th>gyr_y</th>\n",
       "      <th>gyr_z</th>\n",
       "      <th>mag_x</th>\n",
       "      <th>mag_y</th>\n",
       "      <th>mag_z</th>\n",
       "      <th>label</th>\n",
       "    </tr>\n",
       "  </thead>\n",
       "  <tbody>\n",
       "    <tr>\n",
       "      <th>0</th>\n",
       "      <td>-0.749737</td>\n",
       "      <td>0.480876</td>\n",
       "      <td>-0.040893</td>\n",
       "      <td>1.042128</td>\n",
       "      <td>-0.859440</td>\n",
       "      <td>1.805667</td>\n",
       "      <td>0.202621</td>\n",
       "      <td>0.764388</td>\n",
       "      <td>-1.390699</td>\n",
       "      <td>0</td>\n",
       "    </tr>\n",
       "    <tr>\n",
       "      <th>1</th>\n",
       "      <td>-1.420490</td>\n",
       "      <td>0.718053</td>\n",
       "      <td>-0.612779</td>\n",
       "      <td>-2.197140</td>\n",
       "      <td>1.526360</td>\n",
       "      <td>-0.457083</td>\n",
       "      <td>0.250092</td>\n",
       "      <td>0.775345</td>\n",
       "      <td>-1.363310</td>\n",
       "      <td>0</td>\n",
       "    </tr>\n",
       "    <tr>\n",
       "      <th>2</th>\n",
       "      <td>-1.355739</td>\n",
       "      <td>0.683045</td>\n",
       "      <td>-0.253949</td>\n",
       "      <td>-1.230447</td>\n",
       "      <td>-0.235591</td>\n",
       "      <td>-0.753482</td>\n",
       "      <td>0.269080</td>\n",
       "      <td>0.786302</td>\n",
       "      <td>-1.387275</td>\n",
       "      <td>0</td>\n",
       "    </tr>\n",
       "    <tr>\n",
       "      <th>3</th>\n",
       "      <td>-1.136583</td>\n",
       "      <td>0.558768</td>\n",
       "      <td>0.015174</td>\n",
       "      <td>-0.212876</td>\n",
       "      <td>-0.079629</td>\n",
       "      <td>-0.377562</td>\n",
       "      <td>0.226356</td>\n",
       "      <td>0.783562</td>\n",
       "      <td>-1.387275</td>\n",
       "      <td>0</td>\n",
       "    </tr>\n",
       "    <tr>\n",
       "      <th>4</th>\n",
       "      <td>-0.905804</td>\n",
       "      <td>0.498379</td>\n",
       "      <td>-0.085747</td>\n",
       "      <td>0.358094</td>\n",
       "      <td>-0.416845</td>\n",
       "      <td>0.034505</td>\n",
       "      <td>0.245345</td>\n",
       "      <td>0.791780</td>\n",
       "      <td>-1.407817</td>\n",
       "      <td>0</td>\n",
       "    </tr>\n",
       "  </tbody>\n",
       "</table>\n",
       "</div>"
      ],
      "text/plain": [
       "      acc_x     acc_y     acc_z     gyr_x  ...     mag_x     mag_y     mag_z  label\n",
       "0 -0.749737  0.480876 -0.040893  1.042128  ...  0.202621  0.764388 -1.390699      0\n",
       "1 -1.420490  0.718053 -0.612779 -2.197140  ...  0.250092  0.775345 -1.363310      0\n",
       "2 -1.355739  0.683045 -0.253949 -1.230447  ...  0.269080  0.786302 -1.387275      0\n",
       "3 -1.136583  0.558768  0.015174 -0.212876  ...  0.226356  0.783562 -1.387275      0\n",
       "4 -0.905804  0.498379 -0.085747  0.358094  ...  0.245345  0.791780 -1.407817      0\n",
       "\n",
       "[5 rows x 10 columns]"
      ]
     },
     "execution_count": 7,
     "metadata": {},
     "output_type": "execute_result"
    }
   ],
   "source": [
    "# Obtain the processed dataset\n",
    "processeddf = process(df)\n",
    "# Review\n",
    "processeddf.head()"
   ]
  },
  {
   "cell_type": "code",
   "execution_count": 8,
   "metadata": {
    "executionInfo": {
     "elapsed": 5,
     "status": "ok",
     "timestamp": 1630584778356,
     "user": {
      "displayName": "Santanu Sikder",
      "photoUrl": "https://lh3.googleusercontent.com/a-/AOh14GjG5OU4_v-U3ZUB0wrCl0AVGOuYys3E-pTIANQ47g=s64",
      "userId": "14139649071342923887"
     },
     "user_tz": -330
    },
    "id": "t3SEAw3QJ6Zj"
   },
   "outputs": [],
   "source": [
    "# The function which returns 4s windows from the given data\n",
    "def getWindows(data):  # data corresponds to processed data\n",
    "    winsize = FREQ * 4  # 4s corresponds to this number of frames/entries\n",
    "    skip = FREQ * 2  # # Consecutive windows should overlap with a difference of 2s between their initial frames\n",
    "    windows = []\n",
    "    labels = []\n",
    "    # Number of entries in the dataset\n",
    "    n = len(data)\n",
    "    # The feature set and the label set\n",
    "    X = data[data.columns[: -1]].copy().values\n",
    "    y = data[\"label\"].copy().values\n",
    "\n",
    "    for i in range(0, n - winsize, skip):\n",
    "        windows.append(X[i : i + winsize])\n",
    "        labels.append(mode(y[i : i + winsize])[0][0])\n",
    "    # Reshape windows into 4D to make it compatible with the model\n",
    "    windows = np.array(windows)\n",
    "    windows = windows.reshape(*windows.shape, 1)\n",
    "    labels = np.array(labels)\n",
    "    # Return the windows and the labels (the future X and y)\n",
    "    return windows, labels"
   ]
  },
  {
   "cell_type": "code",
   "execution_count": 9,
   "metadata": {
    "colab": {
     "base_uri": "https://localhost:8080/"
    },
    "executionInfo": {
     "elapsed": 6218,
     "status": "ok",
     "timestamp": 1630584784569,
     "user": {
      "displayName": "Santanu Sikder",
      "photoUrl": "https://lh3.googleusercontent.com/a-/AOh14GjG5OU4_v-U3ZUB0wrCl0AVGOuYys3E-pTIANQ47g=s64",
      "userId": "14139649071342923887"
     },
     "user_tz": -330
    },
    "id": "oSjwNUYIMeC1",
    "outputId": "ec5f2031-8a02-408c-bfcd-8dc24a841736"
   },
   "outputs": [
    {
     "data": {
      "text/plain": [
       "((49782, 200, 9, 1), (49782,))"
      ]
     },
     "execution_count": 9,
     "metadata": {},
     "output_type": "execute_result"
    }
   ],
   "source": [
    "# Obtain the test set\n",
    "testX, testy = getWindows(processeddf)\n",
    "# Check their shapes\n",
    "testX.shape, testy.shape"
   ]
  },
  {
   "cell_type": "markdown",
   "metadata": {
    "id": "vWkQw7XbT-xW"
   },
   "source": [
    "# Loading the Model"
   ]
  },
  {
   "cell_type": "code",
   "execution_count": 10,
   "metadata": {
    "executionInfo": {
     "elapsed": 1676,
     "status": "ok",
     "timestamp": 1630584786237,
     "user": {
      "displayName": "Santanu Sikder",
      "photoUrl": "https://lh3.googleusercontent.com/a-/AOh14GjG5OU4_v-U3ZUB0wrCl0AVGOuYys3E-pTIANQ47g=s64",
      "userId": "14139649071342923887"
     },
     "user_tz": -330
    },
    "id": "90Mbl2iBUHFW"
   },
   "outputs": [],
   "source": [
    "from tensorflow.keras.models import load_model"
   ]
  },
  {
   "cell_type": "code",
   "execution_count": 11,
   "metadata": {
    "executionInfo": {
     "elapsed": 4,
     "status": "ok",
     "timestamp": 1630584786238,
     "user": {
      "displayName": "Santanu Sikder",
      "photoUrl": "https://lh3.googleusercontent.com/a-/AOh14GjG5OU4_v-U3ZUB0wrCl0AVGOuYys3E-pTIANQ47g=s64",
      "userId": "14139649071342923887"
     },
     "user_tz": -330
    },
    "id": "0GTa5XxyNSAk"
   },
   "outputs": [],
   "source": [
    "# Path to the model saved during training\n",
    "MODEL_PATH = \"cow-activity-model\""
   ]
  },
  {
   "cell_type": "code",
   "execution_count": 12,
   "metadata": {
    "executionInfo": {
     "elapsed": 3636,
     "status": "ok",
     "timestamp": 1630584789871,
     "user": {
      "displayName": "Santanu Sikder",
      "photoUrl": "https://lh3.googleusercontent.com/a-/AOh14GjG5OU4_v-U3ZUB0wrCl0AVGOuYys3E-pTIANQ47g=s64",
      "userId": "14139649071342923887"
     },
     "user_tz": -330
    },
    "id": "CINlvrTpUbrD"
   },
   "outputs": [],
   "source": [
    "# Load the model\n",
    "model = load_model(MODEL_PATH)"
   ]
  },
  {
   "cell_type": "markdown",
   "metadata": {
    "id": "6T0d2lOLUnL2"
   },
   "source": [
    "# Testing and Evaluating the Model"
   ]
  },
  {
   "cell_type": "code",
   "execution_count": 13,
   "metadata": {
    "executionInfo": {
     "elapsed": 7,
     "status": "ok",
     "timestamp": 1630584789875,
     "user": {
      "displayName": "Santanu Sikder",
      "photoUrl": "https://lh3.googleusercontent.com/a-/AOh14GjG5OU4_v-U3ZUB0wrCl0AVGOuYys3E-pTIANQ47g=s64",
      "userId": "14139649071342923887"
     },
     "user_tz": -330
    },
    "id": "-jWc-mT3Ugbc"
   },
   "outputs": [],
   "source": [
    "import seaborn as sns\n",
    "from sklearn.metrics import accuracy_score, confusion_matrix"
   ]
  },
  {
   "cell_type": "code",
   "execution_count": 14,
   "metadata": {
    "executionInfo": {
     "elapsed": 5,
     "status": "ok",
     "timestamp": 1630584789875,
     "user": {
      "displayName": "Santanu Sikder",
      "photoUrl": "https://lh3.googleusercontent.com/a-/AOh14GjG5OU4_v-U3ZUB0wrCl0AVGOuYys3E-pTIANQ47g=s64",
      "userId": "14139649071342923887"
     },
     "user_tz": -330
    },
    "id": "APMTHKHmUt2g"
   },
   "outputs": [],
   "source": [
    "# Function to return the list of predictions (yhat)\n",
    "def predict(X):\n",
    "    yprobs = model.predict(X)  # Probabilities of a datapoint corresponding to a label\n",
    "    yhat = np.argmax(yprobs, axis = 1)  # Indices of the labels corresponding to the maximum probabilities\n",
    "    return yhat"
   ]
  },
  {
   "cell_type": "code",
   "execution_count": 15,
   "metadata": {
    "executionInfo": {
     "elapsed": 22979,
     "status": "ok",
     "timestamp": 1630584812849,
     "user": {
      "displayName": "Santanu Sikder",
      "photoUrl": "https://lh3.googleusercontent.com/a-/AOh14GjG5OU4_v-U3ZUB0wrCl0AVGOuYys3E-pTIANQ47g=s64",
      "userId": "14139649071342923887"
     },
     "user_tz": -330
    },
    "id": "gksHgD-6XP0N"
   },
   "outputs": [],
   "source": [
    "# Predict\n",
    "yhat = predict(testX)"
   ]
  },
  {
   "cell_type": "code",
   "execution_count": 16,
   "metadata": {
    "colab": {
     "base_uri": "https://localhost:8080/",
     "height": 609
    },
    "executionInfo": {
     "elapsed": 1109,
     "status": "ok",
     "timestamp": 1630584813954,
     "user": {
      "displayName": "Santanu Sikder",
      "photoUrl": "https://lh3.googleusercontent.com/a-/AOh14GjG5OU4_v-U3ZUB0wrCl0AVGOuYys3E-pTIANQ47g=s64",
      "userId": "14139649071342923887"
     },
     "user_tz": -330
    },
    "id": "C3sbvp1hXdd9",
    "outputId": "83bb4d16-fc5f-4145-a051-607e5e077646"
   },
   "outputs": [
    {
     "data": {
      "text/plain": [
       "<matplotlib.axes._subplots.AxesSubplot at 0x7ff7f11a92d0>"
      ]
     },
     "execution_count": 16,
     "metadata": {},
     "output_type": "execute_result"
    },
    {
     "data": {
      "image/png": "[encoded data removed]",
      "text/plain": [
       "<Figure size 720x720 with 2 Axes>"
      ]
     },
     "metadata": {
      "needs_background": "light"
     },
     "output_type": "display_data"
    }
   ],
   "source": [
    "# Obtain the confusion matrix\n",
    "cmat = confusion_matrix(testy, yhat)\n",
    "# Plot the confusion matrix\n",
    "plt.figure(figsize = (10, 10))\n",
    "sns.heatmap(cmat, xticklabels = range(1, 10), yticklabels = range(1, 10), annot = True)"
   ]
  },
  {
   "cell_type": "code",
   "execution_count": 17,
   "metadata": {
    "colab": {
     "base_uri": "https://localhost:8080/"
    },
    "executionInfo": {
     "elapsed": 8,
     "status": "ok",
     "timestamp": 1630584813955,
     "user": {
      "displayName": "Santanu Sikder",
      "photoUrl": "https://lh3.googleusercontent.com/a-/AOh14GjG5OU4_v-U3ZUB0wrCl0AVGOuYys3E-pTIANQ47g=s64",
      "userId": "14139649071342923887"
     },
     "user_tz": -330
    },
    "id": "iBMfyWqOZGfM",
    "outputId": "5539499d-c1e8-4899-e353-81eea2bd3658"
   },
   "outputs": [
    {
     "data": {
      "text/plain": [
       "0.1302880559238279"
      ]
     },
     "execution_count": 17,
     "metadata": {},
     "output_type": "execute_result"
    }
   ],
   "source": [
    "# Check the accuracy of the model\n",
    "accuracy_score(testy, yhat)"
   ]
  }
 ],
 "metadata": {
  "colab": {
   "authorship_tag": "ABX9TyMLFFojvm+8fh2USqB8LTH0",
   "collapsed_sections": [],
   "mount_file_id": "1Uy5EovFIE-IKHmZ1UXLSsdmbgSk2jJOB",
   "name": "test.ipynb",
   "provenance": []
  },
  "kernelspec": {
   "display_name": "Python 3",
   "language": "python",
   "name": "python3"
  },
  "language_info": {
   "codemirror_mode": {
    "name": "ipython",
    "version": 3
   },
   "file_extension": ".py",
   "mimetype": "text/x-python",
   "name": "python",
   "nbconvert_exporter": "python",
   "pygments_lexer": "ipython3",
   "version": "3.7.0"
  }
 },
 "nbformat": 4,
 "nbformat_minor": 4
}
